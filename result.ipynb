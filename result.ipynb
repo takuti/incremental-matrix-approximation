{
 "cells": [
  {
   "cell_type": "code",
   "execution_count": 1,
   "metadata": {
    "collapsed": true
   },
   "outputs": [],
   "source": [
    "import matplotlib as mpl \n",
    "mpl.use(\"pgf\") \n",
    "pgf_with_rc_fonts = {\n",
    "    \"font.serif\": [],\n",
    "}\n",
    "\n",
    "import numpy as np\n",
    "import pandas as pd\n",
    "\n",
    "%matplotlib inline\n",
    "import matplotlib.pyplot as plt\n",
    "from matplotlib import gridspec\n",
    "\n",
    "mpl.rcParams['pdf.fonttype'] = 42\n",
    "mpl.rcParams['ps.fonttype'] = 42\n",
    "mpl.rcParams['axes.labelsize'] = 'large'\n",
    "mpl.rcParams['axes.facecolor'] = 'w'"
   ]
  },
  {
   "cell_type": "code",
   "execution_count": 5,
   "metadata": {
    "collapsed": true
   },
   "outputs": [],
   "source": [
    "# http://public.tableau.com/profile/chris.gerrard#!/vizhome/TableauColors/ColorPaletteswithRGBValues\n",
    "colors = [(31, 119, 180), (174, 199, 232), (255, 127, 14), (255, 187, 120),\n",
    "          (44, 160, 44), (152, 223, 138), (214, 39, 40), (255, 152, 150),  \n",
    "          (148, 103, 189), (197, 176, 213), (140, 86, 75), (196, 156, 148),   \n",
    "          (227, 119, 194), (247, 182, 210), (127, 127, 127), (199, 199, 199),\n",
    "          (188, 189, 34), (219, 219, 141), (23, 190, 207), (158, 218, 229)]\n",
    "\n",
    "# [0, 255] -> [0.0, 1.0]\n",
    "for i, (r, g, b) in enumerate(colors):  \n",
    "    colors[i] = (r / 255., g / 255., b / 255.) \n",
    "    \n",
    "colors_medium = [(114, 158, 206), (255, 158, 74), (103, 191, 92),\n",
    "                 (237, 102, 93), (173, 139, 201), (168, 120, 110),\n",
    "                 (237, 151, 202), (162, 162, 162), (205, 204, 93), (109, 204, 218)]\n",
    "\n",
    "for i, (r, g, b) in enumerate(colors_medium):  \n",
    "    colors_medium[i] = (r / 255., g / 255., b / 255.) "
   ]
  },
  {
   "cell_type": "code",
   "execution_count": 2,
   "metadata": {
    "collapsed": true
   },
   "outputs": [],
   "source": [
    "ell = [4, 8, 16, 32, 64, 128, 256]\n",
    "err = [1.9043975495, 1.53392089235, 1.14943840055, 1.00044963427, 1.00000728168, 1.00000006729, 1.0]\n",
    "time = [0.591689, 0.877754, 2.401179, 6.108395, 17.863258, 84.104562, 304.967199]"
   ]
  },
  {
   "cell_type": "code",
   "execution_count": 25,
   "metadata": {
    "collapsed": false
   },
   "outputs": [
    {
     "data": {
      "image/png": "[encoded data removed]",
      "text/plain": [
       "<matplotlib.figure.Figure at 0x114735080>"
      ]
     },
     "metadata": {},
     "output_type": "display_data"
    }
   ],
   "source": [
    "fig, ax1 = plt.subplots()\n",
    "\n",
    "l1 = ax1.plot(ell, err, c=colors[0], label='error', lw=2., ms=6., marker='o', mew=0.)\n",
    "ax1.set_ylabel('Projection error')\n",
    "\n",
    "ax2 = ax1.twinx()\n",
    "l2 = ax2.plot(ell, time, c=colors[2], label='time', lw=2., ms=6., marker='s', mew=0.)\n",
    "ax2.set_ylabel('Running time [sec.]')\n",
    "\n",
    "lines = l1 + l2\n",
    "labels = [l.get_label() for l in lines]\n",
    "ax1.legend(lines, labels, loc=4)\n",
    "\n",
    "ax1.set_xlabel(r'sketch size $\\ell$')\n",
    "ax1.grid()\n",
    "ax1.set_xlim(-10, 266)\n",
    "ax1.set_yticks([.25, .5, .75, 1., 1.25, 1.5, 1.75, 2., 2.25])\n",
    "ax2.set_yticks([-50, 0, 50, 100, 150, 200, 250, 300, 350])\n",
    "\n",
    "fig.set_size_inches((5.5, 4.))\n",
    "fig.patch.set_alpha(0.0)\n",
    "\n",
    "plt.tight_layout()\n",
    "\n",
    "fig.savefig('sketch_projection_error.eps')"
   ]
  },
  {
   "cell_type": "code",
   "execution_count": null,
   "metadata": {
    "collapsed": true
   },
   "outputs": [],
   "source": []
  }
 ],
 "metadata": {
  "kernelspec": {
   "display_name": "Python [Root]",
   "language": "python",
   "name": "Python [Root]"
  },
  "language_info": {
   "codemirror_mode": {
    "name": "ipython",
    "version": 3
   },
   "file_extension": ".py",
   "mimetype": "text/x-python",
   "name": "python",
   "nbconvert_exporter": "python",
   "pygments_lexer": "ipython3",
   "version": "3.5.2"
  }
 },
 "nbformat": 4,
 "nbformat_minor": 0
}
